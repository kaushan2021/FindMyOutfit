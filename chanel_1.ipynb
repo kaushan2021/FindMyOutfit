{
 "cells": [
  {
   "cell_type": "code",
   "execution_count": 1,
   "metadata": {},
   "outputs": [
    {
     "name": "stdout",
     "output_type": "stream",
     "text": [
      "Find My Outfit \n"
     ]
    }
   ],
   "source": [
    "import pandas as pd\n",
    "df = pd.read_csv('outfit.csv')\n",
    "print(\"Find My Outfit \")\n",
    "\n",
    "#print(df)\n",
    "del df[\"year\"]\n",
    "del df[\"Unnamed: 10\"]\n",
    "del df[\"Unnamed: 11\"]\n",
    "\n",
    "\n",
    "age= 30\n",
    "gender=\"Men\"\n",
    "event=\"Sports\"\n",
    "season=\"Summer\"\n",
    "\n",
    "#Reccomended Topwear\n",
    "topwear = df.loc[\n",
    "    (df['subCategory'] == 'Topwear') & (df['gender'] == gender) & (df['usage'] == event) & (df['season'] == season)]\n",
    "\n",
    "\n",
    "\n",
    "#Reccomended Bottomwear\n",
    "bw = pd.read_csv('outfit.csv')\n",
    "del bw[\"year\"]\n",
    "del bw[\"Unnamed: 10\"]\n",
    "del bw[\"Unnamed: 11\"]\n",
    "bottomwear = bw.loc[\n",
    "    (df['subCategory'] == 'Bottomwear') & (df['gender'] == gender) & (df['usage'] == event) & (df['season'] == season)]\n",
    "\n",
    "\n",
    "\n",
    "#Reccomended Footwear\n",
    "fw = pd.read_csv('outfit.csv')\n",
    "del fw[\"year\"]\n",
    "del fw[\"Unnamed: 10\"]\n",
    "del fw[\"Unnamed: 11\"]\n",
    "footwear = df.loc[\n",
    "    (df['masterCategory'] == 'Footwear') & (df['gender'] == gender) & (df['usage'] == event) & (df['season'] == season)]\n",
    "\n",
    "\n",
    "\n",
    "\n",
    "\n"
   ]
  },
  {
   "cell_type": "code",
   "execution_count": 1,
   "metadata": {},
   "outputs": [],
   "source": []
  },
  {
   "cell_type": "markdown",
   "metadata": {},
   "source": [
    "#Outputs"
   ]
  },
  {
   "cell_type": "code",
   "execution_count": 2,
   "metadata": {},
   "outputs": [
    {
     "name": "stdout",
     "output_type": "stream",
     "text": [
      "Reccomended Topwear\n"
     ]
    },
    {
     "data": {
      "text/plain": "        id gender masterCategory subCategory articleType baseColour  season  \\\n327   7503    Men        Apparel     Topwear     Tshirts       Blue  Summer   \n395   2049    Men        Apparel     Topwear     Tshirts      White  Summer   \n447  29321    Men        Apparel     Topwear     Tshirts      Black  Summer   \n697   4986    Men        Apparel     Topwear     Tshirts        Red  Summer   \n885   7532    Men        Apparel     Topwear     Tshirts       Blue  Summer   \n\n      usage                    productDisplayName  \n327  Sports       Nike Men's As Icon Blue T-shirt  \n395  Sports   ADIDAS Men's Slim Fit White T-shirt  \n447  Sports               ADIDAS Men Black Jersey  \n697  Sports  ADIDAS Men Bayern Munchen Red Jersey  \n885  Sports     Nike Men's Encourage Blue T-shirt  ",
      "text/html": "<div>\n<style scoped>\n    .dataframe tbody tr th:only-of-type {\n        vertical-align: middle;\n    }\n\n    .dataframe tbody tr th {\n        vertical-align: top;\n    }\n\n    .dataframe thead th {\n        text-align: right;\n    }\n</style>\n<table border=\"1\" class=\"dataframe\">\n  <thead>\n    <tr style=\"text-align: right;\">\n      <th></th>\n      <th>id</th>\n      <th>gender</th>\n      <th>masterCategory</th>\n      <th>subCategory</th>\n      <th>articleType</th>\n      <th>baseColour</th>\n      <th>season</th>\n      <th>usage</th>\n      <th>productDisplayName</th>\n    </tr>\n  </thead>\n  <tbody>\n    <tr>\n      <th>327</th>\n      <td>7503</td>\n      <td>Men</td>\n      <td>Apparel</td>\n      <td>Topwear</td>\n      <td>Tshirts</td>\n      <td>Blue</td>\n      <td>Summer</td>\n      <td>Sports</td>\n      <td>Nike Men's As Icon Blue T-shirt</td>\n    </tr>\n    <tr>\n      <th>395</th>\n      <td>2049</td>\n      <td>Men</td>\n      <td>Apparel</td>\n      <td>Topwear</td>\n      <td>Tshirts</td>\n      <td>White</td>\n      <td>Summer</td>\n      <td>Sports</td>\n      <td>ADIDAS Men's Slim Fit White T-shirt</td>\n    </tr>\n    <tr>\n      <th>447</th>\n      <td>29321</td>\n      <td>Men</td>\n      <td>Apparel</td>\n      <td>Topwear</td>\n      <td>Tshirts</td>\n      <td>Black</td>\n      <td>Summer</td>\n      <td>Sports</td>\n      <td>ADIDAS Men Black Jersey</td>\n    </tr>\n    <tr>\n      <th>697</th>\n      <td>4986</td>\n      <td>Men</td>\n      <td>Apparel</td>\n      <td>Topwear</td>\n      <td>Tshirts</td>\n      <td>Red</td>\n      <td>Summer</td>\n      <td>Sports</td>\n      <td>ADIDAS Men Bayern Munchen Red Jersey</td>\n    </tr>\n    <tr>\n      <th>885</th>\n      <td>7532</td>\n      <td>Men</td>\n      <td>Apparel</td>\n      <td>Topwear</td>\n      <td>Tshirts</td>\n      <td>Blue</td>\n      <td>Summer</td>\n      <td>Sports</td>\n      <td>Nike Men's Encourage Blue T-shirt</td>\n    </tr>\n  </tbody>\n</table>\n</div>"
     },
     "execution_count": 2,
     "metadata": {},
     "output_type": "execute_result"
    }
   ],
   "source": [
    "\n",
    "print(\"Reccomended Topwear\")\n",
    "topwear.head()"
   ]
  },
  {
   "cell_type": "code",
   "execution_count": 3,
   "metadata": {},
   "outputs": [
    {
     "name": "stdout",
     "output_type": "stream",
     "text": [
      "Reccomended Bottomwear\n"
     ]
    },
    {
     "data": {
      "text/plain": "         id gender masterCategory subCategory  articleType baseColour  season  \\\n46    18005    Men        Apparel  Bottomwear       Shorts      Black  Summer   \n1726  34259    Men        Apparel  Bottomwear   Tracksuits       Grey  Summer   \n1743   4787    Men        Apparel  Bottomwear       Shorts      Black  Summer   \n1981   5458    Men        Apparel  Bottomwear  Track Pants  Navy Blue  Summer   \n2112  34257    Men        Apparel  Bottomwear   Tracksuits   Charcoal  Summer   \n\n       usage                           productDisplayName  \n46    Sports             Puma Men Long Logo Black Bermuda  \n1726  Sports                   Proline Men Grey Tracksuit  \n1743  Sports             ADIDAS Men's Bas Esx Black Short  \n1981  Sports  Nike Men Training Knit Navy Blue Track Pant  \n2112  Sports               Proline Men Charcoal Tracksuit  ",
      "text/html": "<div>\n<style scoped>\n    .dataframe tbody tr th:only-of-type {\n        vertical-align: middle;\n    }\n\n    .dataframe tbody tr th {\n        vertical-align: top;\n    }\n\n    .dataframe thead th {\n        text-align: right;\n    }\n</style>\n<table border=\"1\" class=\"dataframe\">\n  <thead>\n    <tr style=\"text-align: right;\">\n      <th></th>\n      <th>id</th>\n      <th>gender</th>\n      <th>masterCategory</th>\n      <th>subCategory</th>\n      <th>articleType</th>\n      <th>baseColour</th>\n      <th>season</th>\n      <th>usage</th>\n      <th>productDisplayName</th>\n    </tr>\n  </thead>\n  <tbody>\n    <tr>\n      <th>46</th>\n      <td>18005</td>\n      <td>Men</td>\n      <td>Apparel</td>\n      <td>Bottomwear</td>\n      <td>Shorts</td>\n      <td>Black</td>\n      <td>Summer</td>\n      <td>Sports</td>\n      <td>Puma Men Long Logo Black Bermuda</td>\n    </tr>\n    <tr>\n      <th>1726</th>\n      <td>34259</td>\n      <td>Men</td>\n      <td>Apparel</td>\n      <td>Bottomwear</td>\n      <td>Tracksuits</td>\n      <td>Grey</td>\n      <td>Summer</td>\n      <td>Sports</td>\n      <td>Proline Men Grey Tracksuit</td>\n    </tr>\n    <tr>\n      <th>1743</th>\n      <td>4787</td>\n      <td>Men</td>\n      <td>Apparel</td>\n      <td>Bottomwear</td>\n      <td>Shorts</td>\n      <td>Black</td>\n      <td>Summer</td>\n      <td>Sports</td>\n      <td>ADIDAS Men's Bas Esx Black Short</td>\n    </tr>\n    <tr>\n      <th>1981</th>\n      <td>5458</td>\n      <td>Men</td>\n      <td>Apparel</td>\n      <td>Bottomwear</td>\n      <td>Track Pants</td>\n      <td>Navy Blue</td>\n      <td>Summer</td>\n      <td>Sports</td>\n      <td>Nike Men Training Knit Navy Blue Track Pant</td>\n    </tr>\n    <tr>\n      <th>2112</th>\n      <td>34257</td>\n      <td>Men</td>\n      <td>Apparel</td>\n      <td>Bottomwear</td>\n      <td>Tracksuits</td>\n      <td>Charcoal</td>\n      <td>Summer</td>\n      <td>Sports</td>\n      <td>Proline Men Charcoal Tracksuit</td>\n    </tr>\n  </tbody>\n</table>\n</div>"
     },
     "execution_count": 3,
     "metadata": {},
     "output_type": "execute_result"
    }
   ],
   "source": [
    "print(\"Reccomended Bottomwear\")\n",
    "bottomwear.head()"
   ]
  },
  {
   "cell_type": "code",
   "execution_count": 4,
   "metadata": {},
   "outputs": [
    {
     "name": "stdout",
     "output_type": "stream",
     "text": [
      "Reccomended Footwear\n"
     ]
    },
    {
     "data": {
      "text/plain": "        id gender masterCategory subCategory   articleType baseColour  season  \\\n67    6628    Men       Footwear       Shoes  Sports Shoes      White  Summer   \n89   33822    Men       Footwear       Shoes  Sports Shoes      White  Summer   \n103  42089    Men       Footwear       Shoes  Sports Shoes      White  Summer   \n109  34835    Men       Footwear       Shoes  Sports Shoes       Blue  Summer   \n147  42042    Men       Footwear       Shoes  Sports Shoes      White  Summer   \n\n      usage                                productDisplayName  \n67   Sports             ADIDAS Men's Lowell White Silver Shoe  \n89   Sports           Puma Men Axis White & Grey Sports Shoes  \n103  Sports              ADIDAS Men White Corona Sports Shoes  \n109  Sports                ADIDAS Men Blue Chill Sports Shoes  \n147  Sports  Nike Men Air Relentless 2 MSL White Sports Shoes  ",
      "text/html": "<div>\n<style scoped>\n    .dataframe tbody tr th:only-of-type {\n        vertical-align: middle;\n    }\n\n    .dataframe tbody tr th {\n        vertical-align: top;\n    }\n\n    .dataframe thead th {\n        text-align: right;\n    }\n</style>\n<table border=\"1\" class=\"dataframe\">\n  <thead>\n    <tr style=\"text-align: right;\">\n      <th></th>\n      <th>id</th>\n      <th>gender</th>\n      <th>masterCategory</th>\n      <th>subCategory</th>\n      <th>articleType</th>\n      <th>baseColour</th>\n      <th>season</th>\n      <th>usage</th>\n      <th>productDisplayName</th>\n    </tr>\n  </thead>\n  <tbody>\n    <tr>\n      <th>67</th>\n      <td>6628</td>\n      <td>Men</td>\n      <td>Footwear</td>\n      <td>Shoes</td>\n      <td>Sports Shoes</td>\n      <td>White</td>\n      <td>Summer</td>\n      <td>Sports</td>\n      <td>ADIDAS Men's Lowell White Silver Shoe</td>\n    </tr>\n    <tr>\n      <th>89</th>\n      <td>33822</td>\n      <td>Men</td>\n      <td>Footwear</td>\n      <td>Shoes</td>\n      <td>Sports Shoes</td>\n      <td>White</td>\n      <td>Summer</td>\n      <td>Sports</td>\n      <td>Puma Men Axis White &amp; Grey Sports Shoes</td>\n    </tr>\n    <tr>\n      <th>103</th>\n      <td>42089</td>\n      <td>Men</td>\n      <td>Footwear</td>\n      <td>Shoes</td>\n      <td>Sports Shoes</td>\n      <td>White</td>\n      <td>Summer</td>\n      <td>Sports</td>\n      <td>ADIDAS Men White Corona Sports Shoes</td>\n    </tr>\n    <tr>\n      <th>109</th>\n      <td>34835</td>\n      <td>Men</td>\n      <td>Footwear</td>\n      <td>Shoes</td>\n      <td>Sports Shoes</td>\n      <td>Blue</td>\n      <td>Summer</td>\n      <td>Sports</td>\n      <td>ADIDAS Men Blue Chill Sports Shoes</td>\n    </tr>\n    <tr>\n      <th>147</th>\n      <td>42042</td>\n      <td>Men</td>\n      <td>Footwear</td>\n      <td>Shoes</td>\n      <td>Sports Shoes</td>\n      <td>White</td>\n      <td>Summer</td>\n      <td>Sports</td>\n      <td>Nike Men Air Relentless 2 MSL White Sports Shoes</td>\n    </tr>\n  </tbody>\n</table>\n</div>"
     },
     "execution_count": 4,
     "metadata": {},
     "output_type": "execute_result"
    }
   ],
   "source": [
    "print(\"Reccomended Footwear\")\n",
    "footwear.head()"
   ]
  }
 ],
 "metadata": {
  "kernelspec": {
   "display_name": "Python 3",
   "language": "python",
   "name": "python3"
  },
  "language_info": {
   "codemirror_mode": {
    "name": "ipython",
    "version": 3
   },
   "file_extension": ".py",
   "mimetype": "text/x-python",
   "name": "python",
   "nbconvert_exporter": "python",
   "pygments_lexer": "ipython3",
   "version": "3.9.7"
  }
 },
 "nbformat": 4,
 "nbformat_minor": 4
}